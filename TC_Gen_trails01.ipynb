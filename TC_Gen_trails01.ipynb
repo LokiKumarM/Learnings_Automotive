{
 "cells": [
  {
   "cell_type": "code",
   "execution_count": 1,
   "id": "83fc46da-e8bb-4ebd-8760-7135cdf57f80",
   "metadata": {},
   "outputs": [],
   "source": [
    "import csv\n",
    "\n",
    "csv_file_path = \"SystemReq_EPS.csv\""
   ]
  },
  {
   "cell_type": "code",
   "execution_count": 2,
   "id": "796b53bd-7d3e-4546-8f43-a9bdc1b85ab9",
   "metadata": {},
   "outputs": [],
   "source": [
    "def load_csv(file_path):\n",
    "    requirements = []\n",
    "    with open(file_path, 'r') as csvfile:\n",
    "        reader = csv.DictReader(csvfile)\n",
    "        for row in reader:\n",
    "            requirements.append(row)\n",
    "    return requirements"
   ]
  },
  {
   "cell_type": "code",
   "execution_count": 3,
   "id": "9c1ac582-2380-4f38-9619-2102650a92da",
   "metadata": {},
   "outputs": [],
   "source": [
    "requirements = load_csv(csv_file_path)"
   ]
  },
  {
   "cell_type": "code",
   "execution_count": 4,
   "id": "7d2190c5-7c1b-4914-8c3d-44a0fb9fa2b8",
   "metadata": {},
   "outputs": [
    {
     "data": {
      "text/plain": [
       "[{'id': '245100',\n",
       "  'Primary Text': 'General Requirements',\n",
       "  'Artifact Type': 'Heading',\n",
       "  'Safety': '',\n",
       "  'Verification_Criteria': '',\n",
       "  'isHeading': 'TRUE'},\n",
       " {'id': '245101',\n",
       "  'Primary Text': \"The Steering ECU is responsible for controlling and managing the vehicle's steering system. Its primary operations include receiving input from the driver (via the steering wheel), processing sensor data, and actuating steering mechanisms to ensure accurate and safe vehicle handling.\\nThe ECU supports features like power-assisted steering, advanced driver assistance systems (ADAS), and emergency steering maneuvers.\",\n",
       "  'Artifact Type': 'SYS Information',\n",
       "  'Safety': '',\n",
       "  'Verification_Criteria': '',\n",
       "  'isHeading': ''},\n",
       " {'id': '245102',\n",
       "  'Primary Text': 'Input / Output Parameters',\n",
       "  'Artifact Type': 'Heading',\n",
       "  'Safety': '',\n",
       "  'Verification_Criteria': '',\n",
       "  'isHeading': 'TRUE'},\n",
       " {'id': '245103',\n",
       "  'Primary Text': 'Steering Wheel Angle:  \\nInput Range - ±450° (effective within ±180°)\\nOutput Range - Steering Angle:8° at wheels (per 90° input), Assist Torque: 1Nm–15Nm.\\nSteering Torque:\\nInput Range - 0–15Nm (varies with maneuver)\\nOutput Range - Assist Torque: 1Nm–15Nm, assist ratio up to 4:1 Turning Radius: 4–6 meters (parking)\\nVehicle Speed:  \\nInput Range - 0 km/h to 200 km/h\\nOutput Range - Assist Torque: 1Nm–10Nm (varies with speed)',\n",
       "  'Artifact Type': 'SYS Requirement',\n",
       "  'Safety': 'ASIL B',\n",
       "  'Verification_Criteria': 'Verify the ECU behaviour for all Input / Output Range values of Steering Wheel Angle, Steering Torque, Vehicle Speed respectively',\n",
       "  'isHeading': ''},\n",
       " {'id': '245104',\n",
       "  'Primary Text': 'Application Functions',\n",
       "  'Artifact Type': 'Heading',\n",
       "  'Safety': '',\n",
       "  'Verification_Criteria': '',\n",
       "  'isHeading': 'TRUE'},\n",
       " {'id': '245105',\n",
       "  'Primary Text': \"The Steering ECU shall process the driver's steering input by adjusting the steering angle at the wheels and providing the appropriate assistive torque based on the magnitude and direction of the steering wheel angle.\\n\\nInput Condition:\\nThe driver applies a rotational steering input, with the magnitude of the steering wheel angle varying depending on the required maneuvering. The steering wheel angle can range up to ±450° for full rotation, with effective steering input within ±180° for typical driving scenarios.\\n\\nExpected Output:\\n- The system shall adjust the wheel steering angle within a range of 8° at the wheels for every 90° of steering wheel input, based on the steering ratio (e.g., 15:1).\\n- The system shall apply assistive torque ranging from 1Nm (for high-speed driving) to up to 15Nm (for low-speed maneuvers such as parking) to reduce driver effort.\",\n",
       "  'Artifact Type': 'SYS Requirement',\n",
       "  'Safety': 'ASIL B',\n",
       "  'Verification_Criteria': \"- The steering angle shall be measured and verified for correct wheel alignment within the expected range (8° per 90° of steering wheel input).\\n'- The assist torque shall be validated for the expected range (1Nm to 15Nm) based on driving speed and steering input.\\n'- Functional testing with varying steering inputs and vehicle speeds shall confirm proper assistive torque generation.\",\n",
       "  'isHeading': 'FALSE'},\n",
       " {'id': '245106',\n",
       "  'Primary Text': \"The ECU shall respond to the torque applied by the driver to the steering wheel by generating assistive torque and adjusting the steering angle to facilitate vehicle maneuvering.\\n\\nInput Condition:\\nThe driver applies torque to the steering wheel, typically ranging from 0–5Nm during normal driving, and from 5–15Nm during low-speed maneuvers such as parking.\\n\\nExpected Output:\\n'- The system shall generate an assistive torque up to a 4:1 assist ratio. For example, for 2Nm of torque applied by the driver, the system shall generate up to 8Nm of assist torque for low-speed maneuvering.\\n' - The system shall adjust the steering angle to ensure the appropriate turning radius, typically ranging from 4–6 meters for parking scenarios and 5–10 meters for normal driving.\",\n",
       "  'Artifact Type': 'SYS Requirement',\n",
       "  'Safety': 'ASIL B',\n",
       "  'Verification_Criteria': \"- The assist torque shall be validated for the expected range (up to 4:1 assist ratio).\\n'- The steering angle should align with the target turning radius (4–6 meters for parking and 5–10 meters for driving).\\n'- Testing under varying steering torque inputs shall confirm the appropriate assistive torque generation and adjustment of the turning radius.\",\n",
       "  'isHeading': 'FALSE'},\n",
       " {'id': '245107',\n",
       "  'Primary Text': \"The ECU shall adjust steering assist torque based on the vehicle's speed to enhance stability and control.\\n\\nInput Condition:\\nThe vehicle's speed, which can range from 0 km/h (stationary) to 200 km/h or higher, will influence the level of steering assist required.\\nExpected Output:\\n'- At low speeds (under 20 km/h), the system shall provide a higher assist torque, typically ranging from 5–10Nm, for ease of maneuvering.\\n'- As the vehicle speed increases, the assist torque shall gradually decrease to a range of 1–2Nm at high speeds (above 80 km/h) to provide a firmer steering feel, enhancing vehicle stability.\\n'- The system shall maintain consistent feedback to ensure that the driver retains control of the vehicle at all speeds.\",\n",
       "  'Artifact Type': 'SYS Requirement',\n",
       "  'Safety': 'ASIL A',\n",
       "  'Verification_Criteria': \"- The assist torque shall be measured and verified at different vehicle speeds to ensure the gradual reduction in torque as speed increases (5–10Nm at low speeds, 1–2Nm at high speeds).\\n'- Stability testing under varying speed conditions shall be performed to ensure driver control is maintained.\",\n",
       "  'isHeading': 'FALSE'},\n",
       " {'id': '245108',\n",
       "  'Primary Text': 'The Steering ECU shall provide smooth and precise control of the steering angle to ensure accurate alignment with driver input.\\n\\nThe system shall respond to driver input with a maximum response time of less than 10ms to maintain steering precision and vehicle stability.',\n",
       "  'Artifact Type': 'SYS Requirement',\n",
       "  'Safety': 'ASIL B',\n",
       "  'Verification_Criteria': 'Measure system response to changes in steering wheel angle to ensure the ECU reacts within 10ms under all operating conditions.',\n",
       "  'isHeading': ''},\n",
       " {'id': '245109',\n",
       "  'Primary Text': 'Advanced Driver Assistance Systems (ADAS)',\n",
       "  'Artifact Type': 'Heading',\n",
       "  'Safety': '',\n",
       "  'Verification_Criteria': '',\n",
       "  'isHeading': 'TRUE'},\n",
       " {'id': '245110',\n",
       "  'Primary Text': \"The ECU shall integrate with Lane-Keeping Assistance (LKA) to provide corrective steering inputs for maintaining the vehicle within its lane.\\n\\nInput Condition:\\nThe system detects lane deviation, which can range from 0 to 1 meter off-center.\\n\\nExpected Output:\\n'- The system shall apply a corrective steering angle of 1°–5° to return the vehicle to the center of the lane.\\n'- The system shall provide vibrational feedback through the steering wheel, with intensity proportional to the severity of the lane departure, ranging from light to strong vibration.\",\n",
       "  'Artifact Type': 'SYS Requirement',\n",
       "  'Safety': 'ASIL A',\n",
       "  'Verification_Criteria': 'Verify the system applies corrective angles (1°–5°) for lane deviations detected up to 1 meter.',\n",
       "  'isHeading': 'FALSE'},\n",
       " {'id': '245111',\n",
       "  'Primary Text': \"The ECU shall integrate with Automated Parking Assist to enable precise and controlled steering adjustments for automated parking maneuvers.\\n\\nInput Condition:\\nThe system receives signals for an automated parking maneuver, typically requiring steering angles of up to ±30° for proper vehicle alignment in the parking space.\\n\\nExpected Output:\\n'- The system shall automatically adjust the steering angle by up to ±30° to follow the required parking trajectory.\\n'- The system shall apply assist torque in the range of 3–8Nm to ensure controlled and smooth parking, compensating for any variations in speed or steering response.\",\n",
       "  'Artifact Type': 'SYS Requirement',\n",
       "  'Safety': 'ASIL B',\n",
       "  'Verification_Criteria': \"- The steering angle adjustments during parking shall be verified to ensure proper vehicle alignment (±30°).\\n'- The assistive torque should be tested for the required range (3–8Nm) during the parking maneuver.\",\n",
       "  'isHeading': 'FALSE'},\n",
       " {'id': '245112',\n",
       "  'Primary Text': 'Power Supply',\n",
       "  'Artifact Type': 'Heading',\n",
       "  'Safety': '',\n",
       "  'Verification_Criteria': '',\n",
       "  'isHeading': 'TRUE'},\n",
       " {'id': '245113',\n",
       "  'Primary Text': \"The Steering ECU shall ensure reliable operation within the specified voltage range of the vehicle electrical system while maintaining efficient power consumption under varying load conditions.\\nOperating Range:\\n• The Steering ECU shall operate on a 12V or 48V vehicle electrical system, with the following considerations:\\n    '- Nominal Voltage: 12V system.\\n    '- Operating Voltage Range: 10V to 24V.\\n• The ECU shall handle voltage fluctuations within this range without degradation in functionality or performance.\",\n",
       "  'Artifact Type': 'SYS Requirement',\n",
       "  'Safety': 'ASIL A',\n",
       "  'Verification_Criteria': 'The Steering ECU shall monitor its power supply and generate the following Diagnostic Trouble Codes (DTCs) when specific fault conditions occur: \\no Trigger DTC_Voltage_Failure if the supply voltage drops below 10V or exceeds 24V for more than 2 seconds.\\no Indicates a voltage out-of-range condition that could compromise ECU functionality.\\n\\nif the voltage fault clears, the DTC should also clear from ECU fault memory. ',\n",
       "  'isHeading': 'FALSE'},\n",
       " {'id': '245114',\n",
       "  'Primary Text': 'The ECU shall have a maximum power consumption of 50W during peak load conditions (e.g., full steering assist torque at low vehicle speeds).\\n\\nDuring normal operation, power consumption shall not exceed 20W, optimizing energy usage under typical driving conditions.',\n",
       "  'Artifact Type': '',\n",
       "  'Safety': '',\n",
       "  'Verification_Criteria': \"Trigger DTC_OverCurrent DTC if power consumption exceeds 50W for more than 1 second under normal operating conditions.\\n'- Indicates an overcurrent condition that could lead to potential ECU overheating or power inefficiency.\\n- if the fault heals, the DTC should also clear from ECU fault memory. \",\n",
       "  'isHeading': ''},\n",
       " {'id': '245115',\n",
       "  'Primary Text': 'Performance Requirements',\n",
       "  'Artifact Type': 'Heading',\n",
       "  'Safety': '',\n",
       "  'Verification_Criteria': '',\n",
       "  'isHeading': 'TRUE'},\n",
       " {'id': '245116',\n",
       "  'Primary Text': 'The Steering ECU shall ensure real-time responsiveness by maintaining a maximum steering input-to-output latency of less than 5ms under all operating conditions, including:\\no Rapid steering wheel angle adjustments.\\no Sudden changes in vehicle speed or load.',\n",
       "  'Artifact Type': 'SYS Requirement',\n",
       "  'Safety': 'ASIL C',\n",
       "  'Verification_Criteria': 'Measure and verify latency across various operating conditions, ensuring consistency below 5ms.',\n",
       "  'isHeading': 'FALSE'},\n",
       " {'id': '245117',\n",
       "  'Primary Text': 'The Steering ECU shall include a secondary processing unit for system redundancy to ensure continued operation in case of primary processor failure.\\n\\nThe redundant system shall:\\no Seamlessly take over within 10ms of detecting a fault in the primary processor.\\no Maintain all critical steering functionalities during the fault condition.',\n",
       "  'Artifact Type': 'SYS Requirement',\n",
       "  'Safety': 'ASIL D',\n",
       "  'Verification_Criteria': 'Simulate primary processor failures and validate seamless transitions to the redundant unit within 10ms.\\nValidate that the secondary processor executes steering functions accurately and within performance specifications.',\n",
       "  'isHeading': 'FALSE'},\n",
       " {'id': '245118',\n",
       "  'Primary Text': 'The Steering ECU shall support a maximum assist torque output of 10Nm and maintain consistent performance under varying load conditions.',\n",
       "  'Artifact Type': 'SYS Requirement',\n",
       "  'Safety': 'ASIL C',\n",
       "  'Verification_Criteria': 'Test assist torque delivery during high-load conditions, ensuring it does not exceed 10Nm.',\n",
       "  'isHeading': 'FALSE'}]"
      ]
     },
     "execution_count": 4,
     "metadata": {},
     "output_type": "execute_result"
    }
   ],
   "source": [
    "requirements"
   ]
  },
  {
   "cell_type": "code",
   "execution_count": 5,
   "id": "ef86883e-171b-4192-8186-83a9371a1ddf",
   "metadata": {},
   "outputs": [],
   "source": [
    "from langchain_core.documents import Document\n",
    "\n",
    "documents = [(Document(page_content=str( {\n",
    "            \"Primary Text\": item['Primary Text'],\n",
    "            \"Verification_Criteria\": item['Verification_Criteria'],\n",
    "        }), metadata={\"Requirement ID\": item[\"id\"]})) for item in requirements]"
   ]
  },
  {
   "cell_type": "code",
   "execution_count": 7,
   "id": "a2ccd9cd-ce14-4a58-9622-b41f03907dde",
   "metadata": {},
   "outputs": [],
   "source": [
    "# from langchain_huggingface import HuggingFaceEmbeddings\n",
    "\n",
    "# embeddings_model = HuggingFaceEmbeddings(model_name=\"sentence-transformers/all-MiniLM-L6-v2\")"
   ]
  },
  {
   "cell_type": "code",
   "execution_count": 7,
   "id": "8ae562b1-d333-4b98-8712-216a13cb87c6",
   "metadata": {},
   "outputs": [
    {
     "data": {
      "text/plain": [
       "['ba765540-61b2-4078-93dc-047af8bc9c93',\n",
       " '8eca4c93-a364-434d-be4e-eaf30e0a6128',\n",
       " '0955b6a3-7d94-4ada-9310-b7e89f29d79a',\n",
       " 'b36dce7f-ad92-4eaa-bcea-b4d6641837a9',\n",
       " '4d3d7a19-7d8e-4e1b-9855-b29e786e1ac0',\n",
       " '206bc06b-721a-41bf-9d2f-f903ce2dcf63',\n",
       " '8b627c89-cd3d-432e-954a-dfd0e668f717',\n",
       " '302d2780-b679-477d-94ee-877eb22b6a76',\n",
       " '4b628bf6-e56d-46ec-95c2-798c9edfa606',\n",
       " '0ed5dfee-4ea0-4a3c-9031-976580b339ca',\n",
       " '458190e1-fd6d-407b-ab12-2264c04389db',\n",
       " '550e111e-e1f4-4757-82e7-af09d54dad82',\n",
       " '710b0d2c-c877-4f4a-bb1a-71785acc4a4c',\n",
       " '41aacaea-924c-4f35-8416-f35bc6488b02',\n",
       " '2d08d9d3-c5fd-4ebe-8387-17c797502a9c',\n",
       " 'ba3e2d63-d06a-412d-9c3f-23d8ccecf587',\n",
       " '66dca44d-212b-4ba0-9d26-33ae4de8eaef',\n",
       " 'dbabd760-eb14-4ebe-8948-a2f1cdab5c40',\n",
       " '258c1486-6d9b-4da6-8837-33e77655947d']"
      ]
     },
     "execution_count": 7,
     "metadata": {},
     "output_type": "execute_result"
    }
   ],
   "source": [
    "import uuid\n",
    "from langchain_chroma import Chroma\n",
    "from langchain_huggingface import HuggingFaceEmbeddings\n",
    "\n",
    "embeddings_model = HuggingFaceEmbeddings(model_name=\"sentence-transformers/all-MiniLM-L6-v2\")\n",
    "\n",
    "ids = [str(uuid.uuid4()) for _ in range(len(documents))] \n",
    "\n",
    "unique_collection_name = f\"collection_{uuid.uuid4()}\"\n",
    "\n",
    "client = Chroma(collection_name=unique_collection_name, embedding_function=embeddings_model)\n",
    "\n",
    "# Add documents\n",
    "client.add_documents(documents=documents, ids = ids)"
   ]
  },
  {
   "cell_type": "code",
   "execution_count": 31,
   "id": "faaff985-d5d3-4012-a57c-f5f5958a98c6",
   "metadata": {},
   "outputs": [],
   "source": [
    "# resp = client.get(include=[\"embeddings\"])\n",
    "# print(resp)"
   ]
  },
  {
   "cell_type": "code",
   "execution_count": 13,
   "id": "5156190f-8cfe-4c32-9aa4-7a63512db109",
   "metadata": {},
   "outputs": [],
   "source": [
    "query = \"At what voltage Steering ECU operates ?\""
   ]
  },
  {
   "cell_type": "code",
   "execution_count": 34,
   "id": "7c78dbb6-93f2-43de-8682-98cfa180a4ea",
   "metadata": {},
   "outputs": [
    {
     "data": {
      "text/plain": [
       "list"
      ]
     },
     "execution_count": 34,
     "metadata": {},
     "output_type": "execute_result"
    }
   ],
   "source": [
    "retriever = client.as_retriever()\n",
    "\n",
    "docs = retriever.invoke(query)\n",
    "type(docs)"
   ]
  },
  {
   "cell_type": "code",
   "execution_count": 57,
   "id": "0d6ab926-8dab-4584-b4ab-5a85ca6a29a1",
   "metadata": {
    "scrolled": true
   },
   "outputs": [
    {
     "data": {
      "text/plain": [
       "[Document(metadata={'Requirement ID': '245101'}, page_content='{\\'Primary Text\\': \"The Steering ECU is responsible for controlling and managing the vehicle\\'s steering system. Its primary operations include receiving input from the driver (via the steering wheel), processing sensor data, and actuating steering mechanisms to ensure accurate and safe vehicle handling.\\\\nThe ECU supports features like power-assisted steering, advanced driver assistance systems (ADAS), and emergency steering maneuvers.\", \\'Verification_Criteria\\': \\'\\'}'),\n",
       " Document(metadata={'Requirement ID': '245113'}, page_content='{\\'Primary Text\\': \"The Steering ECU shall ensure reliable operation within the specified voltage range of the vehicle electrical system while maintaining efficient power consumption under varying load conditions.\\\\nOperating Range:\\\\n• The Steering ECU shall operate on a 12V or 48V vehicle electrical system, with the following considerations:\\\\n    \\'- Nominal Voltage: 12V system.\\\\n    \\'- Operating Voltage Range: 10V to 24V.\\\\n• The ECU shall handle voltage fluctuations within this range without degradation in functionality or performance.\", \\'Verification_Criteria\\': \\'The Steering ECU shall monitor its power supply and generate the following Diagnostic Trouble Codes (DTCs) when specific fault conditions occur: \\\\no Trigger DTC_Voltage_Failure if the supply voltage drops below 10V or exceeds 24V for more than 2 seconds.\\\\no Indicates a voltage out-of-range condition that could compromise ECU functionality.\\\\n\\\\nif the voltage fault clears, the DTC should also clear from ECU fault memory. \\'}'),\n",
       " Document(metadata={'Requirement ID': '245118'}, page_content=\"{'Primary Text': 'The Steering ECU shall support a maximum assist torque output of 10Nm and maintain consistent performance under varying load conditions.', 'Verification_Criteria': 'Test assist torque delivery during high-load conditions, ensuring it does not exceed 10Nm.'}\"),\n",
       " Document(metadata={'Requirement ID': '245108'}, page_content=\"{'Primary Text': 'The Steering ECU shall provide smooth and precise control of the steering angle to ensure accurate alignment with driver input.\\\\n\\\\nThe system shall respond to driver input with a maximum response time of less than 10ms to maintain steering precision and vehicle stability.', 'Verification_Criteria': 'Measure system response to changes in steering wheel angle to ensure the ECU reacts within 10ms under all operating conditions.'}\")]"
      ]
     },
     "execution_count": 57,
     "metadata": {},
     "output_type": "execute_result"
    }
   ],
   "source": [
    "docs"
   ]
  },
  {
   "cell_type": "code",
   "execution_count": 4,
   "id": "bfc36727-9719-424b-8a61-331f9dc9cd3b",
   "metadata": {},
   "outputs": [
    {
     "ename": "NameError",
     "evalue": "name 'docs' is not defined",
     "output_type": "error",
     "traceback": [
      "\u001b[1;31m---------------------------------------------------------------------------\u001b[0m",
      "\u001b[1;31mNameError\u001b[0m                                 Traceback (most recent call last)",
      "Cell \u001b[1;32mIn[4], line 1\u001b[0m\n\u001b[1;32m----> 1\u001b[0m \u001b[43mdocs\u001b[49m[\u001b[38;5;241m1\u001b[39m]\u001b[38;5;241m.\u001b[39mpage_content\n",
      "\u001b[1;31mNameError\u001b[0m: name 'docs' is not defined"
     ]
    }
   ],
   "source": [
    "docs[1].page_content"
   ]
  },
  {
   "cell_type": "code",
   "execution_count": 15,
   "id": "e7cb5624-2457-4310-b78f-a13518f30039",
   "metadata": {},
   "outputs": [],
   "source": [
    "def retrieve_documents(query_text, collection, top_k=4,):\n",
    "    documents=[]\n",
    "    retrieve_doc = collection.similarity_search(query_text, k=top_k)\n",
    "\n",
    "    for item in retrieve_doc:\n",
    "         documents.append({\n",
    "                \"content\": item.page_content,\n",
    "                \"source\": item.metadata,\n",
    "            })  \n",
    "    \n",
    "    return documents"
   ]
  },
  {
   "cell_type": "code",
   "execution_count": 16,
   "id": "0d1303c8-6d0e-4a1f-b726-7c085d3c4f58",
   "metadata": {},
   "outputs": [],
   "source": [
    "result = retrieve_documents(\"At what voltage does steering ECU operates ?\",client)"
   ]
  },
  {
   "cell_type": "code",
   "execution_count": 8,
   "id": "90257292-0400-4912-90c0-136e7ea4b08e",
   "metadata": {},
   "outputs": [],
   "source": [
    "import re\n",
    "\n",
    "def clean_text(result):\n",
    "    content_list = []\n",
    "    for item in result:\n",
    "        # Clean the 'content' field\n",
    "        content = item['content']\n",
    "        content = content.replace(\"'\", '\"')\n",
    "        content = re.sub(r'[\\'\\-•]\"\"', \"\", content)  # Remove specified characters\n",
    "        content = re.sub(r'\\s{2,}', ' ', content).strip()  # Normalize whitespace and trim\n",
    "        item['content'] = content\n",
    "\n",
    "        # Replace data in 'Verification_Criteria' field if it exists\n",
    "        #for var in item:\n",
    "        # criteria = item['Verification_Criteria']  # Update cleaned criteria in the item\n",
    "        \n",
    "        # combined_content = f\"Primary Text: {content}\\nVerification Criteria: {criteria}\\n\\n\"\n",
    "        content_list.append(content)\n",
    "        final_content = ''.join(content_list)\n",
    "    return final_content"
   ]
  },
  {
   "cell_type": "code",
   "execution_count": 19,
   "id": "292b245e-9b90-4ef4-bf59-aa82a674adf4",
   "metadata": {},
   "outputs": [],
   "source": [
    "res = clean_text(result)"
   ]
  },
  {
   "cell_type": "code",
   "execution_count": 20,
   "id": "2a3c9b82-92fb-4ce7-ae8f-d735687b3af7",
   "metadata": {
    "scrolled": true
   },
   "outputs": [
    {
     "data": {
      "text/plain": [
       "str"
      ]
     },
     "execution_count": 20,
     "metadata": {},
     "output_type": "execute_result"
    }
   ],
   "source": [
    "type(res)"
   ]
  },
  {
   "cell_type": "code",
   "execution_count": 9,
   "id": "9d9fb83f-b4ee-4be7-823e-31c1e383bce1",
   "metadata": {},
   "outputs": [],
   "source": [
    "import os\n",
    "from dotenv import load_dotenv\n",
    "\n",
    "load_dotenv()\n",
    "from langchain_groq import ChatGroq\n",
    "\n",
    "llm = ChatGroq(\n",
    "    model=\"llama-3.3-70b-versatile\",\n",
    "    temperature=0,\n",
    "    groq_api_key=os.getenv(\"GROQ_API_KEY\")\n",
    "    )"
   ]
  },
  {
   "cell_type": "code",
   "execution_count": 10,
   "id": "bea17e71-8a74-48a9-8af8-aeff26bd9c6b",
   "metadata": {},
   "outputs": [],
   "source": [
    "from langchain.prompts import PromptTemplate\n",
    "\n",
    "def prompt_def(task, context):\n",
    "    template = \"\"\" Answer the question {task} by understanding the {context} content\"\"\"\n",
    "    prompt = PromptTemplate.from_template(template=template, input_varible=[\"task\", \"context\"])\n",
    "\n",
    "    return prompt"
   ]
  },
  {
   "cell_type": "code",
   "execution_count": 11,
   "id": "acbc85cf-483d-44b0-9b56-f85c2f0baee5",
   "metadata": {},
   "outputs": [],
   "source": [
    "def llm_call(requirement):\n",
    "    #retrieving the documents\n",
    "    documents = retrieve_documents(requirement,client)\n",
    "    context = clean_text(documents)\n",
    "\n",
    "    prompt = prompt_def(requirement, context)\n",
    "    \n",
    "    chain = prompt|llm\n",
    "    output = chain.invoke(input={\"task\": requirement, \"context\": context})\n",
    "\n",
    "    return output\n",
    "    "
   ]
  },
  {
   "cell_type": "code",
   "execution_count": 17,
   "id": "111c72b4-d7ad-4ac7-ae64-d8df686b51c2",
   "metadata": {},
   "outputs": [
    {
     "name": "stdout",
     "output_type": "stream",
     "text": [
      "LLM Response:  The Steering ECU operates at a nominal voltage of 12V, with an operating voltage range of 10V to 24V. It is also compatible with 48V vehicle electrical systems.\n"
     ]
    }
   ],
   "source": [
    "llm_response = llm_call(query)\n",
    "\n",
    "# Output the LLM's response\n",
    "print(\"LLM Response: \", llm_response.content)"
   ]
  },
  {
   "cell_type": "code",
   "execution_count": 1,
   "id": "0174b208-4519-4ed7-b156-3f572bfaef67",
   "metadata": {},
   "outputs": [],
   "source": [
    "Orches_prompt = \"\"\" You are provided with requirements of Automotive Electronic Control Unit(ECU). \n",
    "Analyze the requirements and understand the context of the it based on documents provided.\n",
    "        requirements: {requirement}\n",
    "        documents: {context}\n",
    "\n",
    "Return your response in this format:\n",
    "\n",
    "<analysis>\n",
    "Explain your understanding of the requirements in detail. Focus on each point and break down it in detail.\n",
    "</analysis>\n",
    "\n",
    "<tasks>\n",
    "    <task>\n",
    "    <type>Primary text</type>\n",
    "    <description>Write a precise description of requirement separated by numerical points</description>\n",
    "    </task>\n",
    "    <task>\n",
    "    <type>verification</type>\n",
    "    <description>Give description about how can be the respective requirement is validated</description>\n",
    "    </task>\n",
    "</tasks>\n",
    "\"\"\""
   ]
  },
  {
   "cell_type": "code",
   "execution_count": null,
   "id": "9d287133-6293-4933-92ff-0b7f89a4153f",
   "metadata": {},
   "outputs": [],
   "source": []
  }
 ],
 "metadata": {
  "kernelspec": {
   "display_name": "Python 3 (ipykernel)",
   "language": "python",
   "name": "python3"
  },
  "language_info": {
   "codemirror_mode": {
    "name": "ipython",
    "version": 3
   },
   "file_extension": ".py",
   "mimetype": "text/x-python",
   "name": "python",
   "nbconvert_exporter": "python",
   "pygments_lexer": "ipython3",
   "version": "3.11.0"
  }
 },
 "nbformat": 4,
 "nbformat_minor": 5
}
